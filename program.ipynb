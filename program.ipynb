{
 "cells": [
  {
   "cell_type": "code",
   "execution_count": 1,
   "metadata": {},
   "outputs": [],
   "source": [
    "from bs4 import BeautifulSoup\n",
    "import os\n",
    "import requests\n",
    "import io\n",
    "from PIL import Image"
   ]
  },
  {
   "cell_type": "code",
   "execution_count": null,
   "metadata": {},
   "outputs": [],
   "source": [
    "def download_image(url):\n",
    "    image_content=requests.get(url).content\n",
    "    image_file=io.BytesIO(image_content)\n",
    "    image=Image.open(image_file)\n",
    "    file_path=\"\"\n",
    "\n",
    "    with open(file_path,\"wb\") as f:\n",
    "        image.save(f,\"JPEG\")"
   ]
  },
  {
   "cell_type": "code",
   "execution_count": 1,
   "metadata": {},
   "outputs": [
    {
     "name": "stdout",
     "output_type": "stream",
     "text": [
      "Searching Images....\n",
      "Found 10 images\n",
      "Start downloading...\n",
      "Download Completed!\n"
     ]
    }
   ],
   "source": [
    "import os\n",
    "import requests \n",
    "from bs4 import BeautifulSoup\n",
    "\n",
    "Google_Image = \\\n",
    "    'https://www.google.com/search?site=&tbm=isch&source=hp&biw=1873&bih=990&'\n",
    "\n",
    "u_agnt = {\n",
    "    'User-Agent': 'Mozilla/5.0 (Windows NT 10.0; Win64; x64) AppleWebKit/537.36 (KHTML, like Gecko) Chrome/85.0.4183.83 Safari/537.36',\n",
    "    'Accept': 'text/html,application/xhtml+xml,application/xml;q=0.9,*/*;q=0.8',\n",
    "    'Accept-Charset': 'ISO-8859-1,utf-8;q=0.7,*;q=0.3',\n",
    "    'Accept-Encoding': 'none',\n",
    "    'Accept-Language': 'en-US,en;q=0.8',\n",
    "    'Connection': 'keep-alive',\n",
    "}\n",
    "\n",
    "Image_Folder = './Images'\n",
    "\n",
    "def main():\n",
    "    if not os.path.exists(Image_Folder):\n",
    "        os.mkdir(Image_Folder)\n",
    "    download_images()\n",
    "\n",
    "def download_images():\n",
    "    data = input('Enter your search keyword: ')\n",
    "    num_images = int(input('Enter the number of images you want: '))\n",
    "    \n",
    "    print('Searching Images....')\n",
    "    \n",
    "    search_url = Google_Image + 'q=' + data \n",
    "    \n",
    "    response = requests.get(search_url, headers=u_agnt)\n",
    "    html = response.text \n",
    "    \n",
    "    b_soup = BeautifulSoup(html, 'html.parser') \n",
    "    # find all img where class='rg_i Q4LuWd'\n",
    "    results = b_soup.findAll('img', {'class': 'rg_i Q4LuWd'})\n",
    "    \n",
    "    count = 0\n",
    "    imagelinks= []\n",
    "    for res in results:\n",
    "        try:\n",
    "            link = res['data-src']\n",
    "            imagelinks.append(link)\n",
    "            count = count + 1\n",
    "            if (count >= num_images):\n",
    "                break\n",
    "            \n",
    "        except KeyError:\n",
    "            continue\n",
    "    \n",
    "    print(f'Found {len(imagelinks)} images')\n",
    "    print('Start downloading...')\n",
    "\n",
    "    for i, imagelink in enumerate(imagelinks):\n",
    "        response = requests.get(imagelink)\n",
    "        \n",
    "        imagename = Image_Folder + '/' + \"image\" + str(i+1) + '.jpg'\n",
    "        with open(imagename, 'wb') as file:\n",
    "            file.write(response.content)\n",
    "\n",
    "    print('Download Completed!')\n",
    "    \n",
    "\n",
    "if __name__ == '__main__':\n",
    "    main()"
   ]
  }
 ],
 "metadata": {
  "kernelspec": {
   "display_name": "base",
   "language": "python",
   "name": "python3"
  },
  "language_info": {
   "codemirror_mode": {
    "name": "ipython",
    "version": 3
   },
   "file_extension": ".py",
   "mimetype": "text/x-python",
   "name": "python",
   "nbconvert_exporter": "python",
   "pygments_lexer": "ipython3",
   "version": "3.10.9"
  },
  "orig_nbformat": 4
 },
 "nbformat": 4,
 "nbformat_minor": 2
}
